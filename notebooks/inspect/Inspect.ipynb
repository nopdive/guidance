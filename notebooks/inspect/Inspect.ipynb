{
 "cells": [
  {
   "cell_type": "code",
   "execution_count": null,
   "id": "29623346-63b2-425c-a771-42bfa83791a2",
   "metadata": {},
   "outputs": [],
   "source": [
    "from guidance.visual import VisualRegistry, JupyterHTMLRenderer\n",
    "import logging\n",
    "#logger = logging.getLogger(__name__)\n",
    "#logging.basicConfig(level=logging.DEBUG)\n",
    "\n",
    "renderer = VisualRegistry.renderer()"
   ]
  },
  {
   "cell_type": "code",
   "execution_count": null,
   "id": "939d3144-34f0-400e-bdcc-867e65d791e9",
   "metadata": {},
   "outputs": [],
   "source": [
    "# Inspecting with guidance\n",
    "\n",
    "from guidance import models, gen, select, user, system, assistant\n",
    "\n",
    "# model_name = \"gpt2\"\n",
    "model_name = \"microsoft/Phi-3-mini-128k-instruct\"\n",
    "\n",
    "model = models.Transformers(model_name, echo='inspect')\n",
    "with user():\n",
    "    model += \"Why did the chicken cross the road?\"\n",
    "with assistant():\n",
    "    model += gen(max_tokens=30)\n",
    "\n",
    "# model += f\"1,2,3,4,5,\" + f\"{gen(max_tokens=5)}\""
   ]
  },
  {
   "cell_type": "code",
   "execution_count": null,
   "id": "cb74db60-ca29-4727-b160-2b49dbb51a36",
   "metadata": {},
   "outputs": [],
   "source": [
    "a_model = model + \" and then some more\" + gen(max_tokens=5)\n",
    "model += \"or so it is claimed\" + gen(max_tokens=5)"
   ]
  },
  {
   "cell_type": "code",
   "execution_count": null,
   "id": "09ec4561-0226-4138-afbf-76584474b761",
   "metadata": {},
   "outputs": [],
   "source": [
    "a_model"
   ]
  },
  {
   "cell_type": "code",
   "execution_count": null,
   "id": "f8fd4fa8-48f9-46f3-858e-ae547ab7ef1d",
   "metadata": {},
   "outputs": [],
   "source": [
    "model"
   ]
  },
  {
   "cell_type": "code",
   "execution_count": null,
   "id": "2ace8cba-1eb6-4979-ba57-e406194657d8",
   "metadata": {},
   "outputs": [],
   "source": []
  }
 ],
 "metadata": {
  "kernelspec": {
   "display_name": "Python 3 (ipykernel)",
   "language": "python",
   "name": "python3"
  },
  "language_info": {
   "codemirror_mode": {
    "name": "ipython",
    "version": 3
   },
   "file_extension": ".py",
   "mimetype": "text/x-python",
   "name": "python",
   "nbconvert_exporter": "python",
   "pygments_lexer": "ipython3",
   "version": "3.12.5"
  }
 },
 "nbformat": 4,
 "nbformat_minor": 5
}
